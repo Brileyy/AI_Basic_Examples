{
 "cells": [
  {
   "cell_type": "markdown",
   "metadata": {},
   "source": [
    "# PCA(Principal Component Analysis)"
   ]
  },
  {
   "cell_type": "markdown",
   "metadata": {},
   "source": [
    "### 기본 라이브러리 불러오기"
   ]
  },
  {
   "cell_type": "code",
   "execution_count": 1,
   "metadata": {},
   "outputs": [],
   "source": [
    "import numpy as np\n",
    "from sklearn.decomposition import PCA #PCA를 위한 함수"
   ]
  },
  {
   "cell_type": "markdown",
   "metadata": {},
   "source": [
    "### 3개의 열을 가진 임의의 데이터셋 생성"
   ]
  },
  {
   "cell_type": "code",
   "execution_count": 2,
   "metadata": {},
   "outputs": [],
   "source": [
    "M = np.array([[-1, -1, -1], [-2, -1, 2], \n",
    "              [-3, -2, 0], [1, 1, 2], \n",
    "              [2, 1, 1], [3, 2, 4], \n",
    "              [2, 0, 3], [3, 5, 1], \n",
    "              [4, 2, 3], [3, 3, 2]])"
   ]
  },
  {
   "cell_type": "markdown",
   "metadata": {},
   "source": [
    "### 주성분 분석\n",
    "- 주성분 개수를 2개로 하여 임의의 데이터 셋 M을 2개의 주성분으로 축소해 보자. "
   ]
  },
  {
   "cell_type": "code",
   "execution_count": 3,
   "metadata": {},
   "outputs": [],
   "source": [
    "pca = PCA(n_components=2)\n",
    "pca.fit(M)\n",
    "PC = pca.transform(M)"
   ]
  },
  {
   "cell_type": "markdown",
   "metadata": {},
   "source": [
    "### 고윳값, 고유 벡터 나타내기\n",
    "- w를 고윳값, V를 고유 벡터라고 저장한다.\n",
    "- 고윳값(Eigenvalue)\n",
    "- 고유벡터(Eigenvector)"
   ]
  },
  {
   "cell_type": "code",
   "execution_count": 4,
   "metadata": {},
   "outputs": [
    {
     "name": "stdout",
     "output_type": "stream",
     "text": [
      "고윳값 :  [10.08253384  0.51151013  1.81706715]\n",
      "고유벡터 :  [[ 0.73743194  0.66568678  0.11425952]\n",
      " [ 0.60957069 -0.58308589 -0.53706091]\n",
      " [ 0.29089124 -0.46569513  0.83576931]]\n"
     ]
    }
   ],
   "source": [
    "w, V = np.linalg.eig(pca.get_covariance())\n",
    "print(\"고윳값 : \",w)\n",
    "print(\"고유벡터 : \",V)"
   ]
  },
  {
   "cell_type": "markdown",
   "metadata": {},
   "source": [
    "### 원 데이터를 나타내는 주성분 세 개\n",
    "- T : 전치 행렬\n",
    "- dot : 행렬곱"
   ]
  },
  {
   "cell_type": "code",
   "execution_count": 5,
   "metadata": {},
   "outputs": [
    {
     "data": {
      "text/plain": [
       "array([[-1.63789386,  0.38309423, -0.41296792],\n",
       "       [-1.50265209, -1.67967793,  1.98008049],\n",
       "       [-3.43143719, -0.83088857,  0.73134327],\n",
       "       [ 1.9287851 , -0.84878936,  1.24873722],\n",
       "       [ 2.3753258 ,  0.28259255,  0.52722744],\n",
       "       [ 4.59500215, -1.03189193,  2.61173397],\n",
       "       [ 2.3475376 , -0.06571181,  2.73582697],\n",
       "       [ 5.55104049, -1.38406422, -1.5067567 ],\n",
       "       [ 5.04154285,  0.09948998,  1.89022418],\n",
       "       [ 4.62279035, -0.68358757,  0.40313444]])"
      ]
     },
     "execution_count": 5,
     "metadata": {},
     "output_type": "execute_result"
    }
   ],
   "source": [
    "V.T.dot(M.T).T"
   ]
  },
  {
   "cell_type": "code",
   "execution_count": null,
   "metadata": {},
   "outputs": [],
   "source": []
  }
 ],
 "metadata": {
  "kernelspec": {
   "display_name": "Python 3",
   "language": "python",
   "name": "python3"
  },
  "language_info": {
   "codemirror_mode": {
    "name": "ipython",
    "version": 3
   },
   "file_extension": ".py",
   "mimetype": "text/x-python",
   "name": "python",
   "nbconvert_exporter": "python",
   "pygments_lexer": "ipython3",
   "version": "3.8.3"
  }
 },
 "nbformat": 4,
 "nbformat_minor": 4
}
