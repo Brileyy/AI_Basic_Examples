{
 "cells": [
  {
   "cell_type": "markdown",
   "metadata": {},
   "source": [
    "## 1. numpy, scipy 이용해 다양한 선형대수 연산하기"
   ]
  },
  {
   "cell_type": "markdown",
   "metadata": {},
   "source": [
    "### 기본 라이브러리 불러오기"
   ]
  },
  {
   "cell_type": "code",
   "execution_count": 1,
   "metadata": {},
   "outputs": [],
   "source": [
    "import numpy as np\n",
    "from scipy import linalg, sparse"
   ]
  },
  {
   "cell_type": "markdown",
   "metadata": {},
   "source": [
    "### 다양한 행렬 생성하고 출력하기\n",
    "- A, B, C는 랜덤하게 생성된 행렬이기 때문에 출력되는 값은 개인마다, 실행할 때 마다 다를 수 있습니다."
   ]
  },
  {
   "cell_type": "code",
   "execution_count": 2,
   "metadata": {},
   "outputs": [
    {
     "name": "stdout",
     "output_type": "stream",
     "text": [
      "[[0.47367418 0.28394749]\n",
      " [0.82580985 0.54419478]]\n"
     ]
    }
   ],
   "source": [
    "A = np.matrix(np.random.random((2, 2)))  # 임의의 2x2 행렬\n",
    "print(A)"
   ]
  },
  {
   "cell_type": "code",
   "execution_count": 3,
   "metadata": {},
   "outputs": [
    {
     "name": "stdout",
     "output_type": "stream",
     "text": [
      "[[0.65490331 0.91092787]\n",
      " [0.51319412 0.37594939]]\n"
     ]
    }
   ],
   "source": [
    "b = np.random.random((2, 2))             # 2x2의 numpy array 생성\n",
    "B = np.asmatrix(b)                       # 2차원 배열을 행렬로 변환\n",
    "print(B)"
   ]
  },
  {
   "cell_type": "code",
   "execution_count": 4,
   "metadata": {},
   "outputs": [
    {
     "name": "stdout",
     "output_type": "stream",
     "text": [
      "[[0.47190142 0.89059455 0.49284838 0.67482181 0.70300625]\n",
      " [0.65634119 0.89770408 0.5955904  0.69966841 0.86607935]\n",
      " [0.04081724 0.43216915 0.59711572 0.06691517 0.55638371]\n",
      " [0.10585509 0.1739403  0.31836127 0.77919629 0.66802378]\n",
      " [0.21974816 0.89563636 0.32125754 0.31178886 0.099196  ]\n",
      " [0.38466188 0.57284234 0.25676669 0.89516982 0.88122879]\n",
      " [0.25569756 0.79883217 0.01397952 0.10579983 0.875301  ]\n",
      " [0.45784034 0.69207561 0.58252311 0.24319391 0.87334761]\n",
      " [0.07367186 0.98328222 0.48558668 0.39257565 0.7644861 ]\n",
      " [0.82710028 0.10532776 0.64815801 0.05756485 0.03470284]]\n"
     ]
    }
   ],
   "source": [
    "C = np.mat(np.random.random((10, 5)))    # 임의의 10x5 행렬\n",
    "print(C)"
   ]
  },
  {
   "cell_type": "code",
   "execution_count": 5,
   "metadata": {},
   "outputs": [
    {
     "name": "stdout",
     "output_type": "stream",
     "text": [
      "[[3 4]\n",
      " [5 6]]\n"
     ]
    }
   ],
   "source": [
    "D = np.mat([[3, 4], [5, 6]])             # 2차원 자료를 나타낸 리스트를 행렬로 표현\n",
    "print(D)"
   ]
  },
  {
   "cell_type": "markdown",
   "metadata": {},
   "source": [
    "### 행렬의 다양한 연산"
   ]
  },
  {
   "cell_type": "code",
   "execution_count": 6,
   "metadata": {},
   "outputs": [
    {
     "name": "stdout",
     "output_type": "stream",
     "text": [
      "[[ 23.3716643  -12.19476105]\n",
      " [-35.46625478  20.34299899]]\n"
     ]
    }
   ],
   "source": [
    "print(A.I)                               # A의 역행렬"
   ]
  },
  {
   "cell_type": "code",
   "execution_count": 7,
   "metadata": {},
   "outputs": [
    {
     "name": "stdout",
     "output_type": "stream",
     "text": [
      "[[0.47367418 0.82580985]\n",
      " [0.28394749 0.54419478]]\n"
     ]
    }
   ],
   "source": [
    "print(A.T)                               # A의 전치행렬"
   ]
  },
  {
   "cell_type": "code",
   "execution_count": 8,
   "metadata": {},
   "outputs": [
    {
     "name": "stdout",
     "output_type": "stream",
     "text": [
      "0.023284382855135104\n"
     ]
    }
   ],
   "source": [
    "print(linalg.det(A))                     # A의 행렬식"
   ]
  },
  {
   "cell_type": "code",
   "execution_count": 9,
   "metadata": {},
   "outputs": [
    {
     "name": "stdout",
     "output_type": "stream",
     "text": [
      "[[3.47367418 4.28394749]\n",
      " [5.82580985 6.54419478]]\n"
     ]
    }
   ],
   "source": [
    "print(np.add(A, D))                      # A와 D의 합"
   ]
  },
  {
   "cell_type": "code",
   "execution_count": 10,
   "metadata": {},
   "outputs": [
    {
     "name": "stdout",
     "output_type": "stream",
     "text": [
      "[[-2.52632582 -3.71605251]\n",
      " [-4.17419015 -5.45580522]]\n"
     ]
    }
   ],
   "source": [
    "print(np.subtract(A, D))                  # A와 D의 차"
   ]
  },
  {
   "cell_type": "code",
   "execution_count": 11,
   "metadata": {},
   "outputs": [
    {
     "name": "stdout",
     "output_type": "stream",
     "text": [
      "[[0.15789139 0.07098687]\n",
      " [0.16516197 0.09069913]]\n"
     ]
    }
   ],
   "source": [
    "print(np.divide(A, D))                    # A 나누기 D"
   ]
  },
  {
   "cell_type": "code",
   "execution_count": 12,
   "metadata": {},
   "outputs": [
    {
     "name": "stdout",
     "output_type": "stream",
     "text": [
      "[[4.01748641 4.23658115]\n",
      " [6.35368127 6.81033566]]\n",
      "\n",
      "\n",
      "[[4.01748641 4.23658115]\n",
      " [6.35368127 6.81033566]]\n"
     ]
    }
   ],
   "source": [
    "print(D@B)                                # D 와 B의 행렬곱\n",
    "print(\"\\n\")                               # 줄 바꿈\n",
    "print(np.dot(D, B))                       # 행렬곱을 numpy dot 함수로도 계산할 수 있다. 결과는 같음."
   ]
  },
  {
   "cell_type": "code",
   "execution_count": 13,
   "metadata": {},
   "outputs": [
    {
     "name": "stdout",
     "output_type": "stream",
     "text": [
      "[[1.96470992 3.64371148]\n",
      " [2.56597061 2.25569631]]\n"
     ]
    }
   ],
   "source": [
    "print(np.mat(np.multiply(D, B)))           # 형렬 D와 B에 대해서, 행렬곱이 아닌 대응되는 원소끼리의 단순 곱셈 수행"
   ]
  },
  {
   "cell_type": "code",
   "execution_count": 14,
   "metadata": {},
   "outputs": [
    {
     "name": "stdout",
     "output_type": "stream",
     "text": [
      "[[1. 0.]\n",
      " [0. 1.]]\n"
     ]
    }
   ],
   "source": [
    "print(np.mat(np.identity(2)))              # 2x2 항등행렬"
   ]
  },
  {
   "cell_type": "markdown",
   "metadata": {},
   "source": [
    "### 고윳값, 고유벡터 구하기"
   ]
  },
  {
   "cell_type": "code",
   "execution_count": 15,
   "metadata": {},
   "outputs": [
    {
     "data": {
      "text/plain": [
       "array([0.02341422+0.j, 0.99445474+0.j])"
      ]
     },
     "execution_count": 15,
     "metadata": {},
     "output_type": "execute_result"
    }
   ],
   "source": [
    "linalg.eigvals(A)                          # 행렬 A의 고윳값 확인"
   ]
  },
  {
   "cell_type": "code",
   "execution_count": 16,
   "metadata": {},
   "outputs": [],
   "source": [
    "la, v = linalg.eig(A)                      # 고윳값을 la, 고유벡터를 v 변수로 저장."
   ]
  },
  {
   "cell_type": "code",
   "execution_count": 17,
   "metadata": {},
   "outputs": [],
   "source": [
    "l1, l2 = la                                # 고윳값을 l1, l2로 받기"
   ]
  },
  {
   "cell_type": "code",
   "execution_count": 18,
   "metadata": {},
   "outputs": [
    {
     "name": "stdout",
     "output_type": "stream",
     "text": [
      "[-0.53341915  0.84585106]\n",
      "[-0.47870317 -0.87797681]\n"
     ]
    }
   ],
   "source": [
    "print(v[:, 0])                             # 첫 번째 고유 벡터\n",
    "print(v[:, 1])                             # 두 번째 고유 벡터"
   ]
  },
  {
   "cell_type": "markdown",
   "metadata": {},
   "source": [
    "### 희소행렬을 만들고 확인하기"
   ]
  },
  {
   "cell_type": "code",
   "execution_count": 19,
   "metadata": {},
   "outputs": [
    {
     "name": "stdout",
     "output_type": "stream",
     "text": [
      "[[0.47190142 0.         0.49284838 0.         0.        ]\n",
      " [0.         0.         0.         0.         0.        ]\n",
      " [0.04081724 0.43216915 0.         0.06691517 0.        ]\n",
      " [0.10585509 0.1739403  0.31836127 0.         0.        ]\n",
      " [0.21974816 0.         0.32125754 0.31178886 0.099196  ]\n",
      " [0.38466188 0.         0.25676669 0.         0.        ]\n",
      " [0.25569756 0.         0.01397952 0.10579983 0.        ]\n",
      " [0.45784034 0.         0.         0.24319391 0.        ]\n",
      " [0.07367186 0.         0.48558668 0.39257565 0.        ]\n",
      " [0.         0.10532776 0.         0.05756485 0.03470284]]\n"
     ]
    }
   ],
   "source": [
    "C[C > 0.5] = 0                             # 행렬 C 에서 원소가 0.5 이상인 경우 해당 값을 0으로 대체.\n",
    "print(C)"
   ]
  },
  {
   "cell_type": "code",
   "execution_count": 20,
   "metadata": {},
   "outputs": [
    {
     "data": {
      "text/plain": [
       "matrix([[0.47190142, 0.        , 0.49284838, 0.        , 0.        ],\n",
       "        [0.        , 0.        , 0.        , 0.        , 0.        ],\n",
       "        [0.04081724, 0.43216915, 0.        , 0.06691517, 0.        ],\n",
       "        [0.10585509, 0.1739403 , 0.31836127, 0.        , 0.        ],\n",
       "        [0.21974816, 0.        , 0.32125754, 0.31178886, 0.099196  ],\n",
       "        [0.38466188, 0.        , 0.25676669, 0.        , 0.        ],\n",
       "        [0.25569756, 0.        , 0.01397952, 0.10579983, 0.        ],\n",
       "        [0.45784034, 0.        , 0.        , 0.24319391, 0.        ],\n",
       "        [0.07367186, 0.        , 0.48558668, 0.39257565, 0.        ],\n",
       "        [0.        , 0.10532776, 0.        , 0.05756485, 0.03470284]])"
      ]
     },
     "execution_count": 20,
     "metadata": {},
     "output_type": "execute_result"
    }
   ],
   "source": [
    "H = sparse.csr_matrix(C)                    # C를 희소행렬 형태로 변환\n",
    "H.todense()                                 # H를 일반적인 행렬(dense matrix) 형태로 변환"
   ]
  },
  {
   "cell_type": "code",
   "execution_count": 21,
   "metadata": {},
   "outputs": [
    {
     "data": {
      "text/plain": [
       "True"
      ]
     },
     "execution_count": 21,
     "metadata": {},
     "output_type": "execute_result"
    }
   ],
   "source": [
    "sparse.isspmatrix_csr(H)                    # 희소행렬 여부 확인"
   ]
  },
  {
   "cell_type": "code",
   "execution_count": null,
   "metadata": {},
   "outputs": [],
   "source": []
  }
 ],
 "metadata": {
  "kernelspec": {
   "display_name": "Python 3",
   "language": "python",
   "name": "python3"
  },
  "language_info": {
   "codemirror_mode": {
    "name": "ipython",
    "version": 3
   },
   "file_extension": ".py",
   "mimetype": "text/x-python",
   "name": "python",
   "nbconvert_exporter": "python",
   "pygments_lexer": "ipython3",
   "version": "3.8.3"
  }
 },
 "nbformat": 4,
 "nbformat_minor": 4
}
